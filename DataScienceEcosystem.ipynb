{
 "cells": [
  {
   "cell_type": "markdown",
   "id": "f04b0b34-d471-4a9b-b51d-cfebdcb14206",
   "metadata": {},
   "source": [
    "# Data Science Tools and Ecosystem"
   ]
  },
  {
   "cell_type": "markdown",
   "id": "a132b6e6-db9d-44f7-a9bf-628dda5b4a72",
   "metadata": {},
   "source": [
    "In this notebook, Data Science Tools and Ecosystem are summarized."
   ]
  },
  {
   "cell_type": "markdown",
   "id": "bf5fd051-679d-45af-8e8d-a8b93f48774b",
   "metadata": {},
   "source": [
    "Some of the popular languages that Data Scientists use are:\n",
    "1. Python\n",
    "2. R\n",
    "3. SQL"
   ]
  },
  {
   "cell_type": "markdown",
   "id": "71d51625-696c-4cb6-aec6-8db7054075fb",
   "metadata": {},
   "source": [
    "Some of the commonly used libraries used by Data Scientists include:\n",
    "1. Matplotlib\n",
    "2. TensoFlow\n",
    "3. NumPy"
   ]
  },
  {
   "cell_type": "markdown",
   "id": "e432842a-b3fb-4f0e-96cb-45bf6a966a90",
   "metadata": {},
   "source": [
    "| Data Science Tools |\n",
    "| :----------------: |\n",
    "| Jupyter Notebook   |\n",
    "| R Studio           |\n",
    "| VS Code            |"
   ]
  },
  {
   "cell_type": "markdown",
   "id": "5e47fd15-c8d2-4707-b0af-7b42211d8810",
   "metadata": {},
   "source": [
    "Below are a few examples of evaluating arithmetic expressions in Python  \n",
    "  x = 1  \n",
    "  y = 2  \n",
    "  z = x + y"
   ]
  },
  {
   "cell_type": "code",
   "execution_count": 2,
   "id": "9aad0608-4c98-4f57-973b-0b776f0e7459",
   "metadata": {},
   "outputs": [
    {
     "data": {
      "text/plain": [
       "17"
      ]
     },
     "execution_count": 2,
     "metadata": {},
     "output_type": "execute_result"
    }
   ],
   "source": [
    "# This a simple arithmetic expression to mutiply then add integers\n",
    "(3*4)+5"
   ]
  },
  {
   "cell_type": "code",
   "execution_count": 3,
   "id": "6c124f9d-43ce-4610-abf1-6ef223ab9ce7",
   "metadata": {},
   "outputs": [
    {
     "data": {
      "text/plain": [
       "3.3333333333333335"
      ]
     },
     "execution_count": 3,
     "metadata": {},
     "output_type": "execute_result"
    }
   ],
   "source": [
    "# This will convert 200 minutes to hours by diving by 60\n",
    "hours = 200 / 60\n",
    "hours"
   ]
  },
  {
   "cell_type": "markdown",
   "id": "75056cf0-2e93-4014-95a6-acb37140bd07",
   "metadata": {},
   "source": [
    "### Objectives:\n",
    "* Python\n",
    "* R\n",
    "* SQL"
   ]
  },
  {
   "cell_type": "markdown",
   "id": "c15230e3-256e-4a31-9503-acb249d42098",
   "metadata": {},
   "source": [
    "## Author\n",
    "Michael Tan"
   ]
  },
  {
   "cell_type": "code",
   "execution_count": null,
   "id": "d6a5bb86-f283-4238-a142-8bcf94a3fe25",
   "metadata": {},
   "outputs": [],
   "source": []
  }
 ],
 "metadata": {
  "kernelspec": {
   "display_name": "Python 3 (ipykernel)",
   "language": "python",
   "name": "python3"
  },
  "language_info": {
   "codemirror_mode": {
    "name": "ipython",
    "version": 3
   },
   "file_extension": ".py",
   "mimetype": "text/x-python",
   "name": "python",
   "nbconvert_exporter": "python",
   "pygments_lexer": "ipython3",
   "version": "3.13.7"
  }
 },
 "nbformat": 4,
 "nbformat_minor": 5
}
